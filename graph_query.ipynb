{
 "cells": [
  {
   "cell_type": "code",
   "execution_count": 2,
   "metadata": {},
   "outputs": [],
   "source": [
    "import sys, traceback\n",
    "import nest_asyncio\n",
    "nest_asyncio.apply()"
   ]
  },
  {
   "cell_type": "code",
   "execution_count": 3,
   "metadata": {},
   "outputs": [],
   "source": [
    "endpoint = \"PLEASE_ENTER_YOUR_OWN_AZURE_COSMOS_GREMLIN_DB_NAME.gremlin.cosmosdb.azure.com\"\n",
    "graph_database = \"recipes-database\"\n",
    "graph_collection = \"recipes-graph\"\n",
    "primary_access_key = \"PLEASE_ENTER_YOUR_OWN_AZURE_COSMOS_GREMLIN_DB_PRIMARY_ACCESS_KEY\""
   ]
  },
  {
   "cell_type": "code",
   "execution_count": 4,
   "metadata": {},
   "outputs": [],
   "source": [
    "from gremlin_python.driver import client, serializer\n",
    "\n",
    "client_connection = client.Client(\n",
    "    \"wss://\" + endpoint + \":443/\", \"g\",\n",
    "    username=\"/dbs/\" + graph_database + \"/colls/\" + graph_collection,\n",
    "    password=primary_access_key,\n",
    "    message_serializer=serializer.GraphSONSerializersV2d0()\n",
    ")"
   ]
  },
  {
   "cell_type": "code",
   "execution_count": 5,
   "metadata": {},
   "outputs": [],
   "source": [
    "from gremlin_python.driver.protocol import GremlinServerError\n",
    "\n",
    "cosmosdb_messages = {\n",
    "    409: 'Conflict exception. You\\'re probably inserting the same ID again.',\n",
    "    429: 'Not enough RUs for this query. Try again.'\n",
    "}\n",
    "\n",
    "def executeGremlinQuery(gremlinQuery, message=None, params=None):\n",
    "    try: \n",
    "        callback = client_connection.submitAsync(gremlinQuery)\n",
    "        if callback.result() is not None:\n",
    "            return callback.result().one()\n",
    "    except GremlinServerError as ex:\n",
    "        status=ex.status_attributes['x-ms-status-code']\n",
    "        print('There was an exception: {0}'.format(status))\n",
    "        print(cosmosdb_messages[status])"
   ]
  },
  {
   "cell_type": "code",
   "execution_count": 6,
   "metadata": {},
   "outputs": [
    {
     "name": "stdout",
     "output_type": "stream",
     "text": [
      "Get the list of recipes that requires Egg.\n"
     ]
    },
    {
     "data": {
      "text/plain": [
       "['Egg Fired Rice',\n",
       " 'Yang Chow Fried Rice',\n",
       " 'Western Fried Rice',\n",
       " 'Egg Sandwich',\n",
       " 'Luncheon Meat & Egg Sandwich',\n",
       " 'Tomato & Egg Sandwich']"
      ]
     },
     "execution_count": 6,
     "metadata": {},
     "output_type": "execute_result"
    }
   ],
   "source": [
    "print(\"Get the list of recipes that requires Egg.\")\n",
    "executeGremlinQuery(\"g.V('Egg').in('requires').hasLabel('recipe').values('id')\")"
   ]
  },
  {
   "cell_type": "code",
   "execution_count": 11,
   "metadata": {},
   "outputs": [
    {
     "name": "stdout",
     "output_type": "stream",
     "text": [
      "Get the list of recipes that requires Sausage Diced.\n"
     ]
    },
    {
     "data": {
      "text/plain": [
       "['Western Fried Rice']"
      ]
     },
     "execution_count": 11,
     "metadata": {},
     "output_type": "execute_result"
    }
   ],
   "source": [
    "print(\"Get the list of recipes that requires Sausage Diced.\")\n",
    "executeGremlinQuery(\"g.V('Sausage Diced').in('requires').hasLabel('recipe').values('id')\")"
   ]
  },
  {
   "cell_type": "code",
   "execution_count": 7,
   "metadata": {},
   "outputs": [
    {
     "name": "stdout",
     "output_type": "stream",
     "text": [
      "Get the list of ingredients to make Egg Fired Rice.\n"
     ]
    },
    {
     "data": {
      "text/plain": [
       "['Egg', 'Cold Rice', 'Oil', 'Soy Sauce', 'Green Onion Diced', 'Salt', 'Sugar']"
      ]
     },
     "execution_count": 7,
     "metadata": {},
     "output_type": "execute_result"
    }
   ],
   "source": [
    "print(\"Get the list of ingredients to make Egg Fired Rice.\")\n",
    "executeGremlinQuery(\"g.V('Egg Fired Rice').out('requires').hasLabel('ingredient').values('id')\")"
   ]
  },
  {
   "cell_type": "code",
   "execution_count": 8,
   "metadata": {},
   "outputs": [
    {
     "name": "stdout",
     "output_type": "stream",
     "text": [
      "Get the list of requires 2 more Eggs.\n"
     ]
    },
    {
     "data": {
      "text/plain": [
       "['Egg Fired Rice',\n",
       " 'Yang Chow Fried Rice',\n",
       " 'Western Fried Rice',\n",
       " 'Egg Sandwich',\n",
       " 'Luncheon Meat & Egg Sandwich',\n",
       " 'Tomato & Egg Sandwich']"
      ]
     },
     "execution_count": 8,
     "metadata": {},
     "output_type": "execute_result"
    }
   ],
   "source": [
    "print(\"Get the list of requires 2 more Eggs.\")\n",
    "executeGremlinQuery(\"g.V('Egg').inE('requires').has('quantity',gte(2)).outV().values('id')\")"
   ]
  },
  {
   "cell_type": "code",
   "execution_count": 12,
   "metadata": {},
   "outputs": [
    {
     "name": "stdout",
     "output_type": "stream",
     "text": [
      "Count the total number of recipes in the Graph database.\n"
     ]
    },
    {
     "data": {
      "text/plain": [
       "[6]"
      ]
     },
     "execution_count": 12,
     "metadata": {},
     "output_type": "execute_result"
    }
   ],
   "source": [
    "print(\"Count the total number of recipes in the Graph database.\")\n",
    "executeGremlinQuery(\"g.V().hasLabel('recipe').count()\")"
   ]
  },
  {
   "cell_type": "code",
   "execution_count": 13,
   "metadata": {},
   "outputs": [
    {
     "name": "stdout",
     "output_type": "stream",
     "text": [
      "Count the total number of ingredients in the Graph database.\n"
     ]
    },
    {
     "data": {
      "text/plain": [
       "[16]"
      ]
     },
     "execution_count": 13,
     "metadata": {},
     "output_type": "execute_result"
    }
   ],
   "source": [
    "print(\"Count the total number of ingredients in the Graph database.\")\n",
    "executeGremlinQuery(\"g.V().hasLabel('ingredient').count()\")"
   ]
  }
 ],
 "metadata": {
  "kernelspec": {
   "display_name": "Python 3.9.7 ('base')",
   "language": "python",
   "name": "python3"
  },
  "language_info": {
   "codemirror_mode": {
    "name": "ipython",
    "version": 3
   },
   "file_extension": ".py",
   "mimetype": "text/x-python",
   "name": "python",
   "nbconvert_exporter": "python",
   "pygments_lexer": "ipython3",
   "version": "3.9.7 (default, Sep 16 2021, 16:59:28) [MSC v.1916 64 bit (AMD64)]"
  },
  "orig_nbformat": 4,
  "vscode": {
   "interpreter": {
    "hash": "32d5765aa6d01b9b0a02ea033f7ee6cdfb45aea016dd659deadc32d0369e5398"
   }
  }
 },
 "nbformat": 4,
 "nbformat_minor": 2
}
