{
 "cells": [
  {
   "cell_type": "code",
   "execution_count": 8,
   "metadata": {},
   "outputs": [],
   "source": [
    "import csv\n",
    "from pathlib import Path"
   ]
  },
  {
   "cell_type": "code",
   "execution_count": 9,
   "metadata": {},
   "outputs": [],
   "source": [
    "recipe_file_path = \"./data/recipe.csv\"\n",
    "recipe_file = open(recipe_file_path,\"r\")\n",
    "recipe_data = list(csv.reader(recipe_file, delimiter=\",\"))\n",
    "recipe_file.close()\n",
    "recipe_file_name = Path(recipe_file_path).stem\n",
    "_gremlin_insert_recipe_vertices = []"
   ]
  },
  {
   "cell_type": "code",
   "execution_count": 45,
   "metadata": {},
   "outputs": [
    {
     "name": "stdout",
     "output_type": "stream",
     "text": [
      "g.addV('recipe').property('id', 'Egg Fired Rice').property('style', 'Chinese').property('type', 'firedRice'),\n",
      "g.addV('recipe').property('id', 'Yang Chow Fried Rice').property('style', 'Chinese').property('type', 'firedRice'),\n",
      "g.addV('recipe').property('id', 'Western Fried Rice').property('style', 'Chinese').property('type', 'firedRice'),\n",
      "g.addV('recipe').property('id', 'Egg Sandwich').property('style', 'Chinese').property('type', 'sandwich'),\n",
      "g.addV('recipe').property('id', 'Luncheon Meat & Egg Sandwich').property('style', 'Chinese').property('type', 'sandwich'),\n",
      "g.addV('recipe').property('id', 'Tomato & Egg Sandwich').property('style', 'Chinese').property('type', 'sandwich'),\n"
     ]
    }
   ],
   "source": [
    "for recipe in recipe_data:\n",
    "    recipe_vertex = (\"g.addV('\"+recipe_file_name+\"').property('id', '\"+recipe[1]+\"').property('style', '\"\n",
    "    +recipe[2]+\"').property('type', '\"+recipe[3]+\"'),\")\n",
    "    print(recipe_vertex)\n",
    "    _gremlin_insert_recipe_vertices.append(recipe_vertex)\n"
   ]
  },
  {
   "cell_type": "code",
   "execution_count": 11,
   "metadata": {},
   "outputs": [
    {
     "name": "stdout",
     "output_type": "stream",
     "text": [
      "[\"g.addV('recipe').property('id', 'Egg Fired Rice').property('style', 'Chinese').property('type', 'firedRice'),\", \"g.addV('recipe').property('id', 'Yang Chow Fried Rice').property('style', 'Chinese').property('type', 'firedRice'),\", \"g.addV('recipe').property('id', 'Western Fried Rice').property('style', 'Chinese').property('type', 'firedRice'),\", \"g.addV('recipe').property('id', 'Egg Sandwich').property('style', 'Chinese').property('type', 'sandwich'),\", \"g.addV('recipe').property('id', 'Luncheon Meat & Egg Sandwich').property('style', 'Chinese').property('type', 'sandwich'),\", \"g.addV('recipe').property('id', 'Tomato & Egg Sandwich').property('style', 'Chinese').property('type', 'sandwich'),\"]\n"
     ]
    }
   ],
   "source": [
    "print(_gremlin_insert_recipe_vertices)"
   ]
  },
  {
   "cell_type": "code",
   "execution_count": 12,
   "metadata": {},
   "outputs": [
    {
     "name": "stdout",
     "output_type": "stream",
     "text": [
      "g.addV('recipe').property('id', 'Egg Fired Rice').property('style', 'Chinese').property('type', 'firedRice'),\n",
      "g.addV('recipe').property('id', 'Yang Chow Fried Rice').property('style', 'Chinese').property('type', 'firedRice'),\n",
      "g.addV('recipe').property('id', 'Western Fried Rice').property('style', 'Chinese').property('type', 'firedRice'),\n",
      "g.addV('recipe').property('id', 'Egg Sandwich').property('style', 'Chinese').property('type', 'sandwich'),\n",
      "g.addV('recipe').property('id', 'Luncheon Meat & Egg Sandwich').property('style', 'Chinese').property('type', 'sandwich'),\n",
      "g.addV('recipe').property('id', 'Tomato & Egg Sandwich').property('style', 'Chinese').property('type', 'sandwich'),\n"
     ]
    }
   ],
   "source": [
    "for vertex in _gremlin_insert_recipe_vertices:\n",
    "    print(vertex)"
   ]
  },
  {
   "cell_type": "code",
   "execution_count": 24,
   "metadata": {},
   "outputs": [],
   "source": [
    "ingredient_file_path = \"./data/ingredient.csv\"\n",
    "ingredient_file = open(ingredient_file_path,\"r\")\n",
    "ingredient_data = list(csv.reader(ingredient_file, delimiter=\",\"))\n",
    "ingredient_file.close()\n",
    "ingredient_file_name = Path(ingredient_file_path).stem\n",
    "_gremlin_insert_ingredient_vertices = []"
   ]
  },
  {
   "cell_type": "code",
   "execution_count": 26,
   "metadata": {},
   "outputs": [
    {
     "name": "stdout",
     "output_type": "stream",
     "text": [
      "g.addV('ingredient').property('id', 'Egg').property('type', 'ingredient'),\n",
      "g.addV('ingredient').property('id', 'Cold Rice').property('type', 'ingredient'),\n",
      "g.addV('ingredient').property('id', 'Oil').property('type', 'ingredient'),\n",
      "g.addV('ingredient').property('id', 'Soy Sauce').property('type', 'ingredient'),\n",
      "g.addV('ingredient').property('id', 'Green Onion Diced').property('type', 'ingredient'),\n",
      "g.addV('ingredient').property('id', 'Salt').property('type', 'ingredient'),\n",
      "g.addV('ingredient').property('id', 'Sugar').property('type', 'ingredient'),\n",
      "g.addV('ingredient').property('id', 'Char Siu Diced').property('type', 'ingredient'),\n",
      "g.addV('ingredient').property('id', 'Shrimp').property('type', 'ingredient'),\n",
      "g.addV('ingredient').property('id', 'Sausage Diced').property('type', 'ingredient'),\n",
      "g.addV('ingredient').property('id', 'Green Pea').property('type', 'ingredient'),\n",
      "g.addV('ingredient').property('id', 'Corn').property('type', 'ingredient'),\n",
      "g.addV('ingredient').property('id', 'Ketchup').property('type', 'ingredient'),\n",
      "g.addV('ingredient').property('id', 'White Bread').property('type', 'ingredient'),\n",
      "g.addV('ingredient').property('id', 'Luncheon Meat Slice').property('type', 'ingredient'),\n",
      "g.addV('ingredient').property('id', 'Tomato Slice').property('type', 'ingredient'),\n"
     ]
    }
   ],
   "source": [
    "for ingredient in ingredient_data:\n",
    "    ingredient_vertex = \"g.addV('\"+ingredient_file_name+\"').property('id', '\"+ingredient[1]+\"').property('type', '\"+ingredient[2]+\"'),\"\n",
    "    print(ingredient_vertex)\n",
    "    _gremlin_insert_ingredient_vertices.append(ingredient_vertex)"
   ]
  },
  {
   "cell_type": "code",
   "execution_count": 27,
   "metadata": {},
   "outputs": [
    {
     "name": "stdout",
     "output_type": "stream",
     "text": [
      "g.addV('ingredient').property('id', 'Egg').property('type', 'ingredient'),\n",
      "g.addV('ingredient').property('id', 'Cold Rice').property('type', 'ingredient'),\n",
      "g.addV('ingredient').property('id', 'Oil').property('type', 'ingredient'),\n",
      "g.addV('ingredient').property('id', 'Soy Sauce').property('type', 'ingredient'),\n",
      "g.addV('ingredient').property('id', 'Green Onion Diced').property('type', 'ingredient'),\n",
      "g.addV('ingredient').property('id', 'Salt').property('type', 'ingredient'),\n",
      "g.addV('ingredient').property('id', 'Sugar').property('type', 'ingredient'),\n",
      "g.addV('ingredient').property('id', 'Char Siu Diced').property('type', 'ingredient'),\n",
      "g.addV('ingredient').property('id', 'Shrimp').property('type', 'ingredient'),\n",
      "g.addV('ingredient').property('id', 'Sausage Diced').property('type', 'ingredient'),\n",
      "g.addV('ingredient').property('id', 'Green Pea').property('type', 'ingredient'),\n",
      "g.addV('ingredient').property('id', 'Corn').property('type', 'ingredient'),\n",
      "g.addV('ingredient').property('id', 'Ketchup').property('type', 'ingredient'),\n",
      "g.addV('ingredient').property('id', 'White Bread').property('type', 'ingredient'),\n",
      "g.addV('ingredient').property('id', 'Luncheon Meat Slice').property('type', 'ingredient'),\n",
      "g.addV('ingredient').property('id', 'Tomato Slice').property('type', 'ingredient'),\n"
     ]
    }
   ],
   "source": [
    "for vertex in _gremlin_insert_ingredient_vertices:\n",
    "    print(vertex)"
   ]
  },
  {
   "cell_type": "code",
   "execution_count": 55,
   "metadata": {},
   "outputs": [],
   "source": [
    "requires_file_path = \"./data/requires.csv\"\n",
    "requires_file = open(requires_file_path,\"r\")\n",
    "requires_data = list(csv.reader(requires_file, delimiter=\",\"))\n",
    "requires_file.close()\n",
    "requires_file_name = Path(requires_file_path).stem\n",
    "_gremlin_insert_requires_edges = []"
   ]
  },
  {
   "cell_type": "code",
   "execution_count": 56,
   "metadata": {},
   "outputs": [
    {
     "name": "stdout",
     "output_type": "stream",
     "text": [
      "g.V('Egg Fired Rice').addE('requires').to(g.V('Egg')).property('weight',1).property('quantity',3),\n",
      "g.V('Egg Fired Rice').addE('requires').to(g.V('Cold Rice')).property('weight',1).property('quantity',2),\n",
      "g.V('Egg Fired Rice').addE('requires').to(g.V('Oil')).property('weight',1).property('quantity',1),\n",
      "g.V('Egg Fired Rice').addE('requires').to(g.V('Soy Sauce')).property('weight',1).property('quantity',1),\n",
      "g.V('Egg Fired Rice').addE('requires').to(g.V('Green Onion Diced')).property('weight',0.5).property('quantity',15),\n",
      "g.V('Egg Fired Rice').addE('requires').to(g.V('Salt')).property('weight',0.5).property('quantity',1),\n",
      "g.V('Egg Fired Rice').addE('requires').to(g.V('Sugar')).property('weight',0.5).property('quantity',1),\n",
      "g.V('Yang Chow Fried Rice').addE('requires').to(g.V('Egg')).property('weight',1).property('quantity',2),\n",
      "g.V('Yang Chow Fried Rice').addE('requires').to(g.V('Cold Rice')).property('weight',1).property('quantity',2),\n",
      "g.V('Yang Chow Fried Rice').addE('requires').to(g.V('Oil')).property('weight',1).property('quantity',1),\n",
      "g.V('Yang Chow Fried Rice').addE('requires').to(g.V('Soy Sauce')).property('weight',1).property('quantity',1),\n",
      "g.V('Yang Chow Fried Rice').addE('requires').to(g.V('Green Onion Diced')).property('weight',0.5).property('quantity',15),\n",
      "g.V('Yang Chow Fried Rice').addE('requires').to(g.V('Salt')).property('weight',0.5).property('quantity',1),\n",
      "g.V('Yang Chow Fried Rice').addE('requires').to(g.V('Sugar')).property('weight',0.5).property('quantity',1),\n",
      "g.V('Yang Chow Fried Rice').addE('requires').to(g.V('Char Siu Diced')).property('weight',1).property('quantity',15),\n",
      "g.V('Yang Chow Fried Rice').addE('requires').to(g.V('Shrimp')).property('weight',1).property('quantity',8),\n",
      "g.V('Western Fried Rice').addE('requires').to(g.V('Egg')).property('weight',1).property('quantity',2),\n",
      "g.V('Western Fried Rice').addE('requires').to(g.V('Cold Rice')).property('weight',1).property('quantity',2),\n",
      "g.V('Western Fried Rice').addE('requires').to(g.V('Oil')).property('weight',1).property('quantity',1),\n",
      "g.V('Western Fried Rice').addE('requires').to(g.V('Green Onion Diced')).property('weight',0.5).property('quantity',15),\n",
      "g.V('Western Fried Rice').addE('requires').to(g.V('Salt')).property('weight',0.5).property('quantity',1),\n",
      "g.V('Western Fried Rice').addE('requires').to(g.V('Sugar')).property('weight',0.5).property('quantity',1),\n",
      "g.V('Western Fried Rice').addE('requires').to(g.V('Sausage Diced')).property('weight',1).property('quantity',15),\n",
      "g.V('Western Fried Rice').addE('requires').to(g.V('Green Pea')).property('weight',1).property('quantity',10),\n",
      "g.V('Western Fried Rice').addE('requires').to(g.V('Corn')).property('weight',0.5).property('quantity',10),\n",
      "g.V('Western Fried Rice').addE('requires').to(g.V('Ketchup')).property('weight',1).property('quantity',3),\n",
      "g.V('Egg Sandwich').addE('requires').to(g.V('White Bread')).property('weight',1).property('quantity',2),\n",
      "g.V('Egg Sandwich').addE('requires').to(g.V('Egg')).property('weight',1).property('quantity',2),\n",
      "g.V('Egg Sandwich').addE('requires').to(g.V('Oil')).property('weight',1).property('quantity',1),\n",
      "g.V('Egg Sandwich').addE('requires').to(g.V('Salt')).property('weight',1).property('quantity',1),\n",
      "g.V('Luncheon Meat & Egg Sandwich').addE('requires').to(g.V('White Bread')).property('weight',1).property('quantity',2),\n",
      "g.V('Luncheon Meat & Egg Sandwich').addE('requires').to(g.V('Egg')).property('weight',1).property('quantity',2),\n",
      "g.V('Luncheon Meat & Egg Sandwich').addE('requires').to(g.V('Oil')).property('weight',1).property('quantity',1),\n",
      "g.V('Luncheon Meat & Egg Sandwich').addE('requires').to(g.V('Salt')).property('weight',0.5).property('quantity',1),\n",
      "g.V('Luncheon Meat & Egg Sandwich').addE('requires').to(g.V('Luncheon Meat Slice')).property('weight',1).property('quantity',2),\n",
      "g.V('Tomato & Egg Sandwich').addE('requires').to(g.V('White Bread')).property('weight',1).property('quantity',2),\n",
      "g.V('Tomato & Egg Sandwich').addE('requires').to(g.V('Egg')).property('weight',1).property('quantity',2),\n",
      "g.V('Tomato & Egg Sandwich').addE('requires').to(g.V('Oil')).property('weight',1).property('quantity',1),\n",
      "g.V('Tomato & Egg Sandwich').addE('requires').to(g.V('Salt')).property('weight',1).property('quantity',1),\n",
      "g.V('Tomato & Egg Sandwich').addE('requires').to(g.V('Tomato Slice')).property('weight',1).property('quantity',4),\n"
     ]
    }
   ],
   "source": [
    "for requires in requires_data:\n",
    "    requires_edge = \"g.V('\"+requires[0]+\"').addE('\"+requires[1]+\"').to(g.V('\"+requires[2]+\\\n",
    "    \"')).property('weight',\"+requires[3]+\").property('quantity',\"+requires[4]+\"),\"\n",
    "    print(requires_edge)\n",
    "    _gremlin_insert_requires_edges.append(requires_edge)"
   ]
  },
  {
   "cell_type": "code",
   "execution_count": 57,
   "metadata": {},
   "outputs": [
    {
     "name": "stdout",
     "output_type": "stream",
     "text": [
      "g.V('Egg Fired Rice').addE('requires').to(g.V('Egg')).property('weight',1).property('quantity',3),\n",
      "g.V('Egg Fired Rice').addE('requires').to(g.V('Cold Rice')).property('weight',1).property('quantity',2),\n",
      "g.V('Egg Fired Rice').addE('requires').to(g.V('Oil')).property('weight',1).property('quantity',1),\n",
      "g.V('Egg Fired Rice').addE('requires').to(g.V('Soy Sauce')).property('weight',1).property('quantity',1),\n",
      "g.V('Egg Fired Rice').addE('requires').to(g.V('Green Onion Diced')).property('weight',0.5).property('quantity',15),\n",
      "g.V('Egg Fired Rice').addE('requires').to(g.V('Salt')).property('weight',0.5).property('quantity',1),\n",
      "g.V('Egg Fired Rice').addE('requires').to(g.V('Sugar')).property('weight',0.5).property('quantity',1),\n",
      "g.V('Yang Chow Fried Rice').addE('requires').to(g.V('Egg')).property('weight',1).property('quantity',2),\n",
      "g.V('Yang Chow Fried Rice').addE('requires').to(g.V('Cold Rice')).property('weight',1).property('quantity',2),\n",
      "g.V('Yang Chow Fried Rice').addE('requires').to(g.V('Oil')).property('weight',1).property('quantity',1),\n",
      "g.V('Yang Chow Fried Rice').addE('requires').to(g.V('Soy Sauce')).property('weight',1).property('quantity',1),\n",
      "g.V('Yang Chow Fried Rice').addE('requires').to(g.V('Green Onion Diced')).property('weight',0.5).property('quantity',15),\n",
      "g.V('Yang Chow Fried Rice').addE('requires').to(g.V('Salt')).property('weight',0.5).property('quantity',1),\n",
      "g.V('Yang Chow Fried Rice').addE('requires').to(g.V('Sugar')).property('weight',0.5).property('quantity',1),\n",
      "g.V('Yang Chow Fried Rice').addE('requires').to(g.V('Char Siu Diced')).property('weight',1).property('quantity',15),\n",
      "g.V('Yang Chow Fried Rice').addE('requires').to(g.V('Shrimp')).property('weight',1).property('quantity',8),\n",
      "g.V('Western Fried Rice').addE('requires').to(g.V('Egg')).property('weight',1).property('quantity',2),\n",
      "g.V('Western Fried Rice').addE('requires').to(g.V('Cold Rice')).property('weight',1).property('quantity',2),\n",
      "g.V('Western Fried Rice').addE('requires').to(g.V('Oil')).property('weight',1).property('quantity',1),\n",
      "g.V('Western Fried Rice').addE('requires').to(g.V('Green Onion Diced')).property('weight',0.5).property('quantity',15),\n",
      "g.V('Western Fried Rice').addE('requires').to(g.V('Salt')).property('weight',0.5).property('quantity',1),\n",
      "g.V('Western Fried Rice').addE('requires').to(g.V('Sugar')).property('weight',0.5).property('quantity',1),\n",
      "g.V('Western Fried Rice').addE('requires').to(g.V('Sausage Diced')).property('weight',1).property('quantity',15),\n",
      "g.V('Western Fried Rice').addE('requires').to(g.V('Green Pea')).property('weight',1).property('quantity',10),\n",
      "g.V('Western Fried Rice').addE('requires').to(g.V('Corn')).property('weight',0.5).property('quantity',10),\n",
      "g.V('Western Fried Rice').addE('requires').to(g.V('Ketchup')).property('weight',1).property('quantity',3),\n",
      "g.V('Egg Sandwich').addE('requires').to(g.V('White Bread')).property('weight',1).property('quantity',2),\n",
      "g.V('Egg Sandwich').addE('requires').to(g.V('Egg')).property('weight',1).property('quantity',2),\n",
      "g.V('Egg Sandwich').addE('requires').to(g.V('Oil')).property('weight',1).property('quantity',1),\n",
      "g.V('Egg Sandwich').addE('requires').to(g.V('Salt')).property('weight',1).property('quantity',1),\n",
      "g.V('Luncheon Meat & Egg Sandwich').addE('requires').to(g.V('White Bread')).property('weight',1).property('quantity',2),\n",
      "g.V('Luncheon Meat & Egg Sandwich').addE('requires').to(g.V('Egg')).property('weight',1).property('quantity',2),\n",
      "g.V('Luncheon Meat & Egg Sandwich').addE('requires').to(g.V('Oil')).property('weight',1).property('quantity',1),\n",
      "g.V('Luncheon Meat & Egg Sandwich').addE('requires').to(g.V('Salt')).property('weight',0.5).property('quantity',1),\n",
      "g.V('Luncheon Meat & Egg Sandwich').addE('requires').to(g.V('Luncheon Meat Slice')).property('weight',1).property('quantity',2),\n",
      "g.V('Tomato & Egg Sandwich').addE('requires').to(g.V('White Bread')).property('weight',1).property('quantity',2),\n",
      "g.V('Tomato & Egg Sandwich').addE('requires').to(g.V('Egg')).property('weight',1).property('quantity',2),\n",
      "g.V('Tomato & Egg Sandwich').addE('requires').to(g.V('Oil')).property('weight',1).property('quantity',1),\n",
      "g.V('Tomato & Egg Sandwich').addE('requires').to(g.V('Salt')).property('weight',1).property('quantity',1),\n",
      "g.V('Tomato & Egg Sandwich').addE('requires').to(g.V('Tomato Slice')).property('weight',1).property('quantity',4),\n"
     ]
    }
   ],
   "source": [
    "for vertex in _gremlin_insert_requires_edges:\n",
    "    print(vertex)"
   ]
  },
  {
   "cell_type": "code",
   "execution_count": null,
   "metadata": {},
   "outputs": [],
   "source": []
  }
 ],
 "metadata": {
  "kernelspec": {
   "display_name": "Python 3.9.7 ('base')",
   "language": "python",
   "name": "python3"
  },
  "language_info": {
   "codemirror_mode": {
    "name": "ipython",
    "version": 3
   },
   "file_extension": ".py",
   "mimetype": "text/x-python",
   "name": "python",
   "nbconvert_exporter": "python",
   "pygments_lexer": "ipython3",
   "version": "3.9.7 (default, Sep 16 2021, 16:59:28) [MSC v.1916 64 bit (AMD64)]"
  },
  "orig_nbformat": 4,
  "vscode": {
   "interpreter": {
    "hash": "32d5765aa6d01b9b0a02ea033f7ee6cdfb45aea016dd659deadc32d0369e5398"
   }
  }
 },
 "nbformat": 4,
 "nbformat_minor": 2
}
